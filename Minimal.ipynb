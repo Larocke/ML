{
 "cells": [
  {
   "cell_type": "markdown",
   "metadata": {},
   "source": [
    "# Simple Linear Regression. Minimal example"
   ]
  },
  {
   "cell_type": "code",
   "execution_count": 2,
   "metadata": {},
   "outputs": [],
   "source": [
    "# Imports\n",
    "import numpy as np\n",
    "import matplotlib.pyplot as plt\n",
    "from mpl_toolkits.mplot3d import Axes3D"
   ]
  },
  {
   "cell_type": "code",
   "execution_count": 3,
   "metadata": {},
   "outputs": [
    {
     "name": "stdout",
     "output_type": "stream",
     "text": [
      "(1000, 2)\n"
     ]
    }
   ],
   "source": [
    "# Simulating input data\n",
    "\n",
    "observations = 1000\n",
    "\n",
    "xs = np.random.uniform(low = -10, high = 10, size = (observations, 1))\n",
    "zs = np.random.uniform(low = -10, high = 10, size = (observations, 1))\n",
    "\n",
    "inputs = np.column_stack((xs, zs))\n",
    "\n",
    "print(inputs.shape)"
   ]
  },
  {
   "cell_type": "code",
   "execution_count": 4,
   "metadata": {},
   "outputs": [
    {
     "name": "stdout",
     "output_type": "stream",
     "text": [
      "(1000, 1)\n"
     ]
    }
   ],
   "source": [
    "# Simulating target data with w = (2, -3) and bias = 5. Noise is to simulate real world data.\n",
    "noise = np.random.uniform(-1, 1, (observations, 1))\n",
    "\n",
    "targets = 2 * xs - 3 * zs + 5 + noise\n",
    "print(targets.shape)"
   ]
  },
  {
   "cell_type": "code",
   "execution_count": 5,
   "metadata": {},
   "outputs": [
    {
     "name": "stdout",
     "output_type": "stream",
     "text": [
      "[[-0.01357179]\n",
      " [-0.05204757]] [0.01656507]\n"
     ]
    }
   ],
   "source": [
    "#random initial weights and biases\n",
    "init_range = 0.1\n",
    "\n",
    "weights = np.random.uniform(-init_range, init_range, (2, 1))\n",
    "biases = np.random.uniform(-init_range, init_range, 1)\n",
    "\n",
    "print(weights, biases)"
   ]
  },
  {
   "cell_type": "code",
   "execution_count": 6,
   "metadata": {},
   "outputs": [],
   "source": [
    "# eta value\n",
    "learning_rate = 0.02"
   ]
  },
  {
   "cell_type": "code",
   "execution_count": 11,
   "metadata": {},
   "outputs": [
    {
     "name": "stdout",
     "output_type": "stream",
     "text": [
      "0.1799042903081326\n",
      "0.17975177580190932\n",
      "0.17960529516639012\n",
      "0.17946460968595004\n",
      "0.1793294900891752\n",
      "0.17919971617522587\n",
      "0.17907507645497975\n",
      "0.1789553678063752\n",
      "0.1788403951433875\n",
      "0.17872997109810285\n",
      "0.1786239157153694\n",
      "0.17852205615952965\n",
      "0.17842422643275435\n",
      "0.17833026710452005\n",
      "0.17824002505178982\n",
      "0.17815335320947254\n",
      "0.17807011033075476\n",
      "0.1779901607569143\n",
      "0.1779133741962412\n",
      "0.17783962551170457\n",
      "0.1777687945170199\n",
      "0.17770076578078492\n",
      "0.1776354284383641\n",
      "0.17757267601121499\n",
      "0.17751240623336378\n",
      "0.17745452088474434\n",
      "0.17739892563113227\n",
      "0.17734552987041008\n",
      "0.17729424658491616\n",
      "0.17724499219963383\n",
      "0.17719768644599151\n",
      "0.1771522522310514\n",
      "0.1771086155118728\n",
      "0.1770667051748461\n",
      "0.17702645291980162\n",
      "0.17698779314870172\n",
      "0.17695066285873814\n",
      "0.17691500153965728\n",
      "0.1768807510751489\n",
      "0.17684785564813507\n",
      "0.17681626164980666\n",
      "0.1767859175922589\n",
      "0.17675677402458184\n",
      "0.17672878345227278\n",
      "0.17670190025983476\n",
      "0.176676080636439\n",
      "0.1766512825045263\n",
      "0.17662746545123623\n",
      "0.17660459066254555\n",
      "0.17658262086001486\n",
      "0.17656152024003702\n",
      "0.1765412544154887\n",
      "0.17652179035969046\n",
      "0.1765030963525844\n",
      "0.17648514192904083\n",
      "0.17646789782920944\n",
      "0.17645133595083592\n",
      "0.17643542930346434\n",
      "0.17642015196445135\n",
      "0.17640547903672094\n",
      "0.17639138660818998\n",
      "0.1763778517127998\n",
      "0.17636485229308857\n",
      "0.17635236716424516\n",
      "0.17634037597958482\n",
      "0.17632885919739014\n",
      "0.17631779804906558\n",
      "0.1763071745085494\n",
      "0.17629697126293814\n",
      "0.1762871716842718\n",
      "0.17627775980243565\n",
      "0.1762687202791344\n",
      "0.1762600383828955\n",
      "0.17625169996506188\n",
      "0.17624369143673393\n",
      "0.17623599974662466\n",
      "0.17622861235978962\n",
      "0.1762215172371995\n",
      "0.1762147028161204\n",
      "0.17620815799127001\n",
      "0.17620187209672025\n",
      "0.17619583488851442\n",
      "0.17619003652797385\n",
      "0.17618446756566344\n",
      "0.1761791189259924\n",
      "0.17617398189242361\n",
      "0.17616904809326928\n",
      "0.17616430948804707\n",
      "0.17615975835437714\n",
      "0.17615538727539704\n",
      "0.1761511891276749\n",
      "0.1761471570696\n",
      "0.17614328453023395\n",
      "0.17613956519860124\n",
      "0.1761359930134056\n",
      "0.1761325621531511\n",
      "0.17612926702665516\n",
      "0.17612610226393724\n",
      "0.17612306270746705\n",
      "0.17612014340375964\n"
     ]
    }
   ],
   "source": [
    "#training\n",
    "for i in range(100):\n",
    "    # y = xw + b\n",
    "    outputs = np.dot(inputs, weights) + biases\n",
    "    deltas = outputs - targets\n",
    "    \n",
    "    # L2 - Norm loss formula\n",
    "    loss = np.sum(deltas ** 2) / 2 / observations\n",
    "    \n",
    "    print(loss)\n",
    "    \n",
    "    deltas_scaled = deltas / observations\n",
    "    \n",
    "    weights = weights - learning_rate * np.dot(inputs.T, deltas_scaled)\n",
    "    biases = biases - learning_rate * np.sum(deltas_scaled)\n",
    "    "
   ]
  },
  {
   "cell_type": "code",
   "execution_count": 12,
   "metadata": {},
   "outputs": [
    {
     "name": "stdout",
     "output_type": "stream",
     "text": [
      "[[ 2.00289104]\n",
      " [-2.99695777]] [4.9944498]\n"
     ]
    }
   ],
   "source": [
    "print(weights, biases)"
   ]
  },
  {
   "cell_type": "code",
   "execution_count": null,
   "metadata": {},
   "outputs": [],
   "source": []
  }
 ],
 "metadata": {
  "anaconda-cloud": {},
  "kernelspec": {
   "display_name": "Python 3",
   "language": "python",
   "name": "python3"
  },
  "language_info": {
   "codemirror_mode": {
    "name": "ipython",
    "version": 3
   },
   "file_extension": ".py",
   "mimetype": "text/x-python",
   "name": "python",
   "nbconvert_exporter": "python",
   "pygments_lexer": "ipython3",
   "version": "3.8.8"
  }
 },
 "nbformat": 4,
 "nbformat_minor": 1
}
